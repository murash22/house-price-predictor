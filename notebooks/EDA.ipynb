{
 "cells": [
  {
   "cell_type": "code",
   "execution_count": 1,
   "id": "c10520b6-d44f-486e-8648-cbd8da9af76e",
   "metadata": {},
   "outputs": [],
   "source": [
    "import pandas as pd\n",
    "import glob \n",
    "import matplotlib.pyplot as plt\n",
    "import numpy as np\n",
    "  \n",
    "raw_data_path = '../data/raw'\n",
    "processed_data_path = '../data/processed'\n",
    "file_list = glob.glob(raw_data_path + \"/*.csv\") "
   ]
  },
  {
   "cell_type": "code",
   "execution_count": 2,
   "id": "2bce9e9e-a8b6-45df-9d7a-afa00d062513",
   "metadata": {},
   "outputs": [
    {
     "data": {
      "text/plain": [
       "['../data/raw\\\\2025-05-19_19-17_1_2_3_studio.csv']"
      ]
     },
     "execution_count": 2,
     "metadata": {},
     "output_type": "execute_result"
    }
   ],
   "source": [
    "file_list"
   ]
  },
  {
   "cell_type": "code",
   "execution_count": 11,
   "id": "f87ea301-113c-4cd6-835d-cfae21cf830f",
   "metadata": {},
   "outputs": [
    {
     "data": {
      "text/html": [
       "<div>\n",
       "<style scoped>\n",
       "    .dataframe tbody tr th:only-of-type {\n",
       "        vertical-align: middle;\n",
       "    }\n",
       "\n",
       "    .dataframe tbody tr th {\n",
       "        vertical-align: top;\n",
       "    }\n",
       "\n",
       "    .dataframe thead th {\n",
       "        text-align: right;\n",
       "    }\n",
       "</style>\n",
       "<table border=\"1\" class=\"dataframe\">\n",
       "  <thead>\n",
       "    <tr style=\"text-align: right;\">\n",
       "      <th></th>\n",
       "      <th>author</th>\n",
       "      <th>author_type</th>\n",
       "      <th>url</th>\n",
       "      <th>location</th>\n",
       "      <th>deal_type</th>\n",
       "      <th>accommodation_type</th>\n",
       "      <th>floor</th>\n",
       "      <th>floors_count</th>\n",
       "      <th>rooms_count</th>\n",
       "      <th>total_meters</th>\n",
       "      <th>price_per_month</th>\n",
       "      <th>commissions</th>\n",
       "      <th>price</th>\n",
       "      <th>district</th>\n",
       "      <th>street</th>\n",
       "      <th>house_number</th>\n",
       "      <th>underground</th>\n",
       "      <th>residential_complex</th>\n",
       "    </tr>\n",
       "  </thead>\n",
       "  <tbody>\n",
       "    <tr>\n",
       "      <th>0</th>\n",
       "      <td>ID 76951860</td>\n",
       "      <td>realtor</td>\n",
       "      <td>https://www.cian.ru/sale/flat/316661265/</td>\n",
       "      <td>Москва</td>\n",
       "      <td>sale</td>\n",
       "      <td>flat</td>\n",
       "      <td>9</td>\n",
       "      <td>22</td>\n",
       "      <td>3</td>\n",
       "      <td>78.0</td>\n",
       "      <td>-1</td>\n",
       "      <td>0</td>\n",
       "      <td>34800000</td>\n",
       "      <td>Хорошево-Мневники</td>\n",
       "      <td>бульвар Генерала Карбышева</td>\n",
       "      <td>18</td>\n",
       "      <td>Народное Ополчение</td>\n",
       "      <td>NaN</td>\n",
       "    </tr>\n",
       "    <tr>\n",
       "      <th>1</th>\n",
       "      <td>ID 108172779</td>\n",
       "      <td>real_estate_agent</td>\n",
       "      <td>https://www.cian.ru/sale/flat/306823110/</td>\n",
       "      <td>Москва</td>\n",
       "      <td>sale</td>\n",
       "      <td>flat</td>\n",
       "      <td>5</td>\n",
       "      <td>8</td>\n",
       "      <td>2</td>\n",
       "      <td>82.4</td>\n",
       "      <td>-1</td>\n",
       "      <td>0</td>\n",
       "      <td>82317600</td>\n",
       "      <td>Таганский</td>\n",
       "      <td>Славянская площадь</td>\n",
       "      <td>2/5с1</td>\n",
       "      <td>Китай-город</td>\n",
       "      <td>LUMIN</td>\n",
       "    </tr>\n",
       "    <tr>\n",
       "      <th>2</th>\n",
       "      <td>Мария Науменко</td>\n",
       "      <td>realtor</td>\n",
       "      <td>https://www.cian.ru/sale/flat/317564335/</td>\n",
       "      <td>Москва</td>\n",
       "      <td>sale</td>\n",
       "      <td>flat</td>\n",
       "      <td>3</td>\n",
       "      <td>9</td>\n",
       "      <td>2</td>\n",
       "      <td>40.0</td>\n",
       "      <td>-1</td>\n",
       "      <td>0</td>\n",
       "      <td>14000000</td>\n",
       "      <td>Царицыно</td>\n",
       "      <td>Каспийская</td>\n",
       "      <td>30К1</td>\n",
       "      <td>Царицыно</td>\n",
       "      <td>NaN</td>\n",
       "    </tr>\n",
       "    <tr>\n",
       "      <th>3</th>\n",
       "      <td>Alpha Star Properties</td>\n",
       "      <td>real_estate_agent</td>\n",
       "      <td>https://www.cian.ru/sale/flat/315795006/</td>\n",
       "      <td>Москва</td>\n",
       "      <td>sale</td>\n",
       "      <td>flat</td>\n",
       "      <td>25</td>\n",
       "      <td>61</td>\n",
       "      <td>2</td>\n",
       "      <td>61.0</td>\n",
       "      <td>-1</td>\n",
       "      <td>0</td>\n",
       "      <td>76250000</td>\n",
       "      <td>Пресненский</td>\n",
       "      <td>Краснопресненская набережная</td>\n",
       "      <td>14Ак1</td>\n",
       "      <td>Москва-Сити</td>\n",
       "      <td>Capital Towers</td>\n",
       "    </tr>\n",
       "    <tr>\n",
       "      <th>4</th>\n",
       "      <td>GRAND ESTATE - Премиальная недвижимость</td>\n",
       "      <td>real_estate_agent</td>\n",
       "      <td>https://www.cian.ru/sale/flat/317646469/</td>\n",
       "      <td>Москва</td>\n",
       "      <td>sale</td>\n",
       "      <td>flat</td>\n",
       "      <td>5</td>\n",
       "      <td>5</td>\n",
       "      <td>3</td>\n",
       "      <td>152.0</td>\n",
       "      <td>-1</td>\n",
       "      <td>0</td>\n",
       "      <td>103000000</td>\n",
       "      <td>Красносельский</td>\n",
       "      <td>переулок Даев</td>\n",
       "      <td>31С2</td>\n",
       "      <td>Сухаревская</td>\n",
       "      <td>NaN</td>\n",
       "    </tr>\n",
       "  </tbody>\n",
       "</table>\n",
       "</div>"
      ],
      "text/plain": [
       "                                    author        author_type  \\\n",
       "0                              ID 76951860            realtor   \n",
       "1                             ID 108172779  real_estate_agent   \n",
       "2                           Мария Науменко            realtor   \n",
       "3                    Alpha Star Properties  real_estate_agent   \n",
       "4  GRAND ESTATE - Премиальная недвижимость  real_estate_agent   \n",
       "\n",
       "                                        url location deal_type  \\\n",
       "0  https://www.cian.ru/sale/flat/316661265/   Москва      sale   \n",
       "1  https://www.cian.ru/sale/flat/306823110/   Москва      sale   \n",
       "2  https://www.cian.ru/sale/flat/317564335/   Москва      sale   \n",
       "3  https://www.cian.ru/sale/flat/315795006/   Москва      sale   \n",
       "4  https://www.cian.ru/sale/flat/317646469/   Москва      sale   \n",
       "\n",
       "  accommodation_type  floor  floors_count  rooms_count  total_meters  \\\n",
       "0               flat      9            22            3          78.0   \n",
       "1               flat      5             8            2          82.4   \n",
       "2               flat      3             9            2          40.0   \n",
       "3               flat     25            61            2          61.0   \n",
       "4               flat      5             5            3         152.0   \n",
       "\n",
       "   price_per_month  commissions      price           district  \\\n",
       "0               -1            0   34800000  Хорошево-Мневники   \n",
       "1               -1            0   82317600          Таганский   \n",
       "2               -1            0   14000000           Царицыно   \n",
       "3               -1            0   76250000        Пресненский   \n",
       "4               -1            0  103000000     Красносельский   \n",
       "\n",
       "                         street house_number         underground  \\\n",
       "0    бульвар Генерала Карбышева           18  Народное Ополчение   \n",
       "1            Славянская площадь        2/5с1         Китай-город   \n",
       "2                   Каспийская          30К1            Царицыно   \n",
       "3  Краснопресненская набережная        14Ак1         Москва-Сити   \n",
       "4                 переулок Даев         31С2         Сухаревская   \n",
       "\n",
       "  residential_complex  \n",
       "0                 NaN  \n",
       "1               LUMIN  \n",
       "2                 NaN  \n",
       "3      Capital Towers  \n",
       "4                 NaN  "
      ]
     },
     "execution_count": 11,
     "metadata": {},
     "output_type": "execute_result"
    }
   ],
   "source": [
    "main_dataframe = pd.read_csv(file_list[0], delimiter=',')\n",
    "for i in range(1, len(file_list)): \n",
    "    data = pd.read_csv(file_list[i], delimiter=',') \n",
    "    df = pd.DataFrame(data) \n",
    "    main_dataframe = pd.concat([main_dataframe, df], axis=0) \n",
    "main_dataframe.head()"
   ]
  },
  {
   "cell_type": "code",
   "execution_count": 12,
   "id": "8b8fa361-6238-4e8f-99b3-d06336f5a02a",
   "metadata": {},
   "outputs": [
    {
     "name": "stdout",
     "output_type": "stream",
     "text": [
      "<class 'pandas.core.frame.DataFrame'>\n",
      "Index: 1312 entries, 316661265 to 298357160\n",
      "Data columns (total 5 columns):\n",
      " #   Column        Non-Null Count  Dtype  \n",
      "---  ------        --------------  -----  \n",
      " 0   total_meters  1312 non-null   float64\n",
      " 1   price         1312 non-null   int64  \n",
      " 2   floor         1312 non-null   int64  \n",
      " 3   floors_count  1312 non-null   int64  \n",
      " 4   rooms_count   1312 non-null   int64  \n",
      "dtypes: float64(1), int64(4)\n",
      "memory usage: 61.5+ KB\n"
     ]
    }
   ],
   "source": [
    "main_dataframe['url_id'] = main_dataframe['url'].map(lambda x: x.split('/')[-2])\n",
    "new_dataframe = main_dataframe[['url_id', 'total_meters', 'price', 'floor', 'floors_count', 'rooms_count']].set_index('url_id')\n",
    "new_dataframe.info()"
   ]
  },
  {
   "cell_type": "code",
   "execution_count": 7,
   "id": "9f14eb3d-c195-4c04-a8bf-b9b8f804b606",
   "metadata": {},
   "outputs": [],
   "source": [
    "new_dataframe.to_csv(f\"{processed_data_path}/train_data_nb.csv\")"
   ]
  },
  {
   "cell_type": "code",
   "execution_count": 8,
   "id": "0252d758-f3f1-41ed-b944-af01a75e069c",
   "metadata": {
    "scrolled": true
   },
   "outputs": [
    {
     "data": {
      "text/plain": [
       "<Axes: >"
      ]
     },
     "execution_count": 8,
     "metadata": {},
     "output_type": "execute_result"
    },
    {
     "data": {
      "image/png": "[encoded data removed]",
      "text/plain": [
       "<Figure size 640x480 with 1 Axes>"
      ]
     },
     "metadata": {},
     "output_type": "display_data"
    }
   ],
   "source": [
    "new_dataframe['price'].hist()"
   ]
  },
  {
   "cell_type": "code",
   "execution_count": 9,
   "id": "d84685b1-32f3-4c5c-8541-aa171996d876",
   "metadata": {},
   "outputs": [],
   "source": [
    "new_df = new_dataframe[new_dataframe['price'] < 100_000_000]"
   ]
  },
  {
   "cell_type": "code",
   "execution_count": 10,
   "id": "3cde4678-f0d4-445a-80cc-974d6f696941",
   "metadata": {},
   "outputs": [
    {
     "data": {
      "text/plain": [
       "[<matplotlib.lines.Line2D at 0x243653fdaf0>]"
      ]
     },
     "execution_count": 10,
     "metadata": {},
     "output_type": "execute_result"
    },
    {
     "data": {
      "image/png": "[encoded data removed]",
      "text/plain": [
       "<Figure size 640x480 with 1 Axes>"
      ]
     },
     "metadata": {},
     "output_type": "display_data"
    }
   ],
   "source": [
    "x = new_df['total_meters']\n",
    "y = new_df['price']\n",
    "\n",
    "plt.plot(x, y, 'o')\n",
    "\n",
    "#obtain m (slope) and b(intercept) of linear regression line\n",
    "m, b = np.polyfit(x, y, 1)\n",
    "\n",
    "#add linear regression line to scatterplot \n",
    "plt.plot(x, m*x+b)"
   ]
  },
  {
   "cell_type": "code",
   "execution_count": null,
   "id": "3fe258ea-40eb-4a39-b9bb-5508497d9cb4",
   "metadata": {},
   "outputs": [],
   "source": []
  },
  {
   "cell_type": "code",
   "execution_count": null,
   "id": "b0985ab1-5987-4d30-8538-a595821b6f0e",
   "metadata": {},
   "outputs": [],
   "source": []
  },
  {
   "cell_type": "code",
   "execution_count": null,
   "id": "0b0a10cc-2954-4225-bdac-ead64ba2c4e9",
   "metadata": {},
   "outputs": [],
   "source": []
  }
 ],
 "metadata": {
  "kernelspec": {
   "display_name": "Python 3 (ipykernel)",
   "language": "python",
   "name": "python3"
  },
  "language_info": {
   "codemirror_mode": {
    "name": "ipython",
    "version": 3
   },
   "file_extension": ".py",
   "mimetype": "text/x-python",
   "name": "python",
   "nbconvert_exporter": "python",
   "pygments_lexer": "ipython3",
   "version": "3.12.4"
  }
 },
 "nbformat": 4,
 "nbformat_minor": 5
}
