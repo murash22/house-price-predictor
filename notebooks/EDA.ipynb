{
 "cells": [
  {
   "cell_type": "code",
   "execution_count": 30,
   "id": "c10520b6-d44f-486e-8648-cbd8da9af76e",
   "metadata": {},
   "outputs": [],
   "source": [
    "import pandas as pd\n",
    "import glob \n",
    "import matplotlib.pyplot as plt\n",
    "import numpy as np\n",
    "  \n",
    "raw_data_path = '../data/raw'\n",
    "processed_data_path = '../data/processed'\n",
    "file_list = glob.glob(raw_data_path + \"/*.csv\") "
   ]
  },
  {
   "cell_type": "code",
   "execution_count": 31,
   "id": "2bce9e9e-a8b6-45df-9d7a-afa00d062513",
   "metadata": {},
   "outputs": [
    {
     "data": {
      "text/plain": [
       "['../data/raw\\\\1_2_3_studio.csv',\n",
       " '../data/raw\\\\2025-05-05_20-05_1_2_3_studio.csv']"
      ]
     },
     "execution_count": 31,
     "metadata": {},
     "output_type": "execute_result"
    }
   ],
   "source": [
    "file_list"
   ]
  },
  {
   "cell_type": "code",
   "execution_count": 32,
   "id": "f87ea301-113c-4cd6-835d-cfae21cf830f",
   "metadata": {},
   "outputs": [
    {
     "data": {
      "text/html": [
       "<div>\n",
       "<style scoped>\n",
       "    .dataframe tbody tr th:only-of-type {\n",
       "        vertical-align: middle;\n",
       "    }\n",
       "\n",
       "    .dataframe tbody tr th {\n",
       "        vertical-align: top;\n",
       "    }\n",
       "\n",
       "    .dataframe thead th {\n",
       "        text-align: right;\n",
       "    }\n",
       "</style>\n",
       "<table border=\"1\" class=\"dataframe\">\n",
       "  <thead>\n",
       "    <tr style=\"text-align: right;\">\n",
       "      <th></th>\n",
       "      <th>author</th>\n",
       "      <th>author_type</th>\n",
       "      <th>url</th>\n",
       "      <th>location</th>\n",
       "      <th>deal_type</th>\n",
       "      <th>accommodation_type</th>\n",
       "      <th>floor</th>\n",
       "      <th>floors_count</th>\n",
       "      <th>rooms_count</th>\n",
       "      <th>total_meters</th>\n",
       "      <th>price_per_month</th>\n",
       "      <th>commissions</th>\n",
       "      <th>price</th>\n",
       "      <th>district</th>\n",
       "      <th>street</th>\n",
       "      <th>house_number</th>\n",
       "      <th>underground</th>\n",
       "      <th>residential_complex</th>\n",
       "    </tr>\n",
       "  </thead>\n",
       "  <tbody>\n",
       "    <tr>\n",
       "      <th>0</th>\n",
       "      <td>Whitewill</td>\n",
       "      <td>real_estate_agent</td>\n",
       "      <td>https://www.cian.ru/sale/flat/315685683/</td>\n",
       "      <td>Москва</td>\n",
       "      <td>sale</td>\n",
       "      <td>flat</td>\n",
       "      <td>8</td>\n",
       "      <td>10</td>\n",
       "      <td>3</td>\n",
       "      <td>142.6</td>\n",
       "      <td>-1</td>\n",
       "      <td>0</td>\n",
       "      <td>174314168</td>\n",
       "      <td>Басманный</td>\n",
       "      <td>Казарменный переулок</td>\n",
       "      <td>3</td>\n",
       "      <td>Курская</td>\n",
       "      <td>Дом на Покровском бульваре</td>\n",
       "    </tr>\n",
       "    <tr>\n",
       "      <th>1</th>\n",
       "      <td>Whitewill</td>\n",
       "      <td>real_estate_agent</td>\n",
       "      <td>https://www.cian.ru/sale/flat/315253213/</td>\n",
       "      <td>Москва</td>\n",
       "      <td>sale</td>\n",
       "      <td>flat</td>\n",
       "      <td>30</td>\n",
       "      <td>79</td>\n",
       "      <td>1</td>\n",
       "      <td>78.0</td>\n",
       "      <td>-1</td>\n",
       "      <td>0</td>\n",
       "      <td>92880000</td>\n",
       "      <td>Пресненский</td>\n",
       "      <td>1-й Красногвардейский проезд</td>\n",
       "      <td>22с1</td>\n",
       "      <td>Москва-Сити</td>\n",
       "      <td>NEVA TOWERS</td>\n",
       "    </tr>\n",
       "    <tr>\n",
       "      <th>2</th>\n",
       "      <td>Whitewill</td>\n",
       "      <td>real_estate_agent</td>\n",
       "      <td>https://www.cian.ru/sale/flat/314440236/</td>\n",
       "      <td>Москва</td>\n",
       "      <td>sale</td>\n",
       "      <td>flat</td>\n",
       "      <td>2</td>\n",
       "      <td>10</td>\n",
       "      <td>2</td>\n",
       "      <td>69.4</td>\n",
       "      <td>-1</td>\n",
       "      <td>0</td>\n",
       "      <td>69900000</td>\n",
       "      <td>Тверской</td>\n",
       "      <td>Палиха</td>\n",
       "      <td>4</td>\n",
       "      <td>Менделеевская</td>\n",
       "      <td>Клубный дом Maison Rouge</td>\n",
       "    </tr>\n",
       "    <tr>\n",
       "      <th>3</th>\n",
       "      <td>MOD Estate</td>\n",
       "      <td>real_estate_agent</td>\n",
       "      <td>https://www.cian.ru/sale/flat/310829334/</td>\n",
       "      <td>Москва</td>\n",
       "      <td>sale</td>\n",
       "      <td>flat</td>\n",
       "      <td>5</td>\n",
       "      <td>21</td>\n",
       "      <td>3</td>\n",
       "      <td>99.6</td>\n",
       "      <td>-1</td>\n",
       "      <td>0</td>\n",
       "      <td>44000000</td>\n",
       "      <td>Щукино</td>\n",
       "      <td>Щукинская</td>\n",
       "      <td>3</td>\n",
       "      <td>Стрешнево</td>\n",
       "      <td>Интонация</td>\n",
       "    </tr>\n",
       "    <tr>\n",
       "      <th>4</th>\n",
       "      <td>Владислав Карпов</td>\n",
       "      <td>realtor</td>\n",
       "      <td>https://www.cian.ru/sale/flat/315941840/</td>\n",
       "      <td>Москва</td>\n",
       "      <td>sale</td>\n",
       "      <td>flat</td>\n",
       "      <td>4</td>\n",
       "      <td>15</td>\n",
       "      <td>3</td>\n",
       "      <td>103.0</td>\n",
       "      <td>-1</td>\n",
       "      <td>0</td>\n",
       "      <td>82500000</td>\n",
       "      <td>Хорошево-Мневники</td>\n",
       "      <td>Нижние Мневники</td>\n",
       "      <td>9</td>\n",
       "      <td>Терехово</td>\n",
       "      <td>Остров</td>\n",
       "    </tr>\n",
       "  </tbody>\n",
       "</table>\n",
       "</div>"
      ],
      "text/plain": [
       "             author        author_type  \\\n",
       "0         Whitewill  real_estate_agent   \n",
       "1         Whitewill  real_estate_agent   \n",
       "2         Whitewill  real_estate_agent   \n",
       "3        MOD Estate  real_estate_agent   \n",
       "4  Владислав Карпов            realtor   \n",
       "\n",
       "                                        url location deal_type  \\\n",
       "0  https://www.cian.ru/sale/flat/315685683/   Москва      sale   \n",
       "1  https://www.cian.ru/sale/flat/315253213/   Москва      sale   \n",
       "2  https://www.cian.ru/sale/flat/314440236/   Москва      sale   \n",
       "3  https://www.cian.ru/sale/flat/310829334/   Москва      sale   \n",
       "4  https://www.cian.ru/sale/flat/315941840/   Москва      sale   \n",
       "\n",
       "  accommodation_type  floor  floors_count  rooms_count  total_meters  \\\n",
       "0               flat      8            10            3         142.6   \n",
       "1               flat     30            79            1          78.0   \n",
       "2               flat      2            10            2          69.4   \n",
       "3               flat      5            21            3          99.6   \n",
       "4               flat      4            15            3         103.0   \n",
       "\n",
       "   price_per_month  commissions      price           district  \\\n",
       "0               -1            0  174314168          Басманный   \n",
       "1               -1            0   92880000        Пресненский   \n",
       "2               -1            0   69900000           Тверской   \n",
       "3               -1            0   44000000             Щукино   \n",
       "4               -1            0   82500000  Хорошево-Мневники   \n",
       "\n",
       "                         street house_number    underground  \\\n",
       "0          Казарменный переулок            3        Курская   \n",
       "1  1-й Красногвардейский проезд         22с1    Москва-Сити   \n",
       "2                        Палиха            4  Менделеевская   \n",
       "3                    Щукинская             3      Стрешнево   \n",
       "4               Нижние Мневники            9      Терехово    \n",
       "\n",
       "          residential_complex  \n",
       "0  Дом на Покровском бульваре  \n",
       "1                 NEVA TOWERS  \n",
       "2    Клубный дом Maison Rouge  \n",
       "3                   Интонация  \n",
       "4                      Остров  "
      ]
     },
     "execution_count": 32,
     "metadata": {},
     "output_type": "execute_result"
    }
   ],
   "source": [
    "main_dataframe = pd.read_csv(file_list[0], delimiter=',')\n",
    "for i in range(1, len(file_list)): \n",
    "    data = pd.read_csv(file_list[i], delimiter=',') \n",
    "    df = pd.DataFrame(data) \n",
    "    main_dataframe = pd.concat([main_dataframe, df], axis=0) \n",
    "main_dataframe.head()"
   ]
  },
  {
   "cell_type": "code",
   "execution_count": 33,
   "id": "8b8fa361-6238-4e8f-99b3-d06336f5a02a",
   "metadata": {},
   "outputs": [
    {
     "data": {
      "text/html": [
       "<div>\n",
       "<style scoped>\n",
       "    .dataframe tbody tr th:only-of-type {\n",
       "        vertical-align: middle;\n",
       "    }\n",
       "\n",
       "    .dataframe tbody tr th {\n",
       "        vertical-align: top;\n",
       "    }\n",
       "\n",
       "    .dataframe thead th {\n",
       "        text-align: right;\n",
       "    }\n",
       "</style>\n",
       "<table border=\"1\" class=\"dataframe\">\n",
       "  <thead>\n",
       "    <tr style=\"text-align: right;\">\n",
       "      <th></th>\n",
       "      <th>total_meters</th>\n",
       "      <th>price</th>\n",
       "    </tr>\n",
       "    <tr>\n",
       "      <th>url_id</th>\n",
       "      <th></th>\n",
       "      <th></th>\n",
       "    </tr>\n",
       "  </thead>\n",
       "  <tbody>\n",
       "    <tr>\n",
       "      <th>315685683</th>\n",
       "      <td>142.6</td>\n",
       "      <td>174314168</td>\n",
       "    </tr>\n",
       "    <tr>\n",
       "      <th>315253213</th>\n",
       "      <td>78.0</td>\n",
       "      <td>92880000</td>\n",
       "    </tr>\n",
       "    <tr>\n",
       "      <th>314440236</th>\n",
       "      <td>69.4</td>\n",
       "      <td>69900000</td>\n",
       "    </tr>\n",
       "    <tr>\n",
       "      <th>310829334</th>\n",
       "      <td>99.6</td>\n",
       "      <td>44000000</td>\n",
       "    </tr>\n",
       "    <tr>\n",
       "      <th>315941840</th>\n",
       "      <td>103.0</td>\n",
       "      <td>82500000</td>\n",
       "    </tr>\n",
       "  </tbody>\n",
       "</table>\n",
       "</div>"
      ],
      "text/plain": [
       "           total_meters      price\n",
       "url_id                            \n",
       "315685683         142.6  174314168\n",
       "315253213          78.0   92880000\n",
       "314440236          69.4   69900000\n",
       "310829334          99.6   44000000\n",
       "315941840         103.0   82500000"
      ]
     },
     "execution_count": 33,
     "metadata": {},
     "output_type": "execute_result"
    }
   ],
   "source": [
    "main_dataframe['url_id'] = main_dataframe['url'].map(lambda x: x.split('/')[-2])\n",
    "new_dataframe = main_dataframe[['url_id', 'total_meters', 'price']].set_index('url_id')\n",
    "new_dataframe.head()"
   ]
  },
  {
   "cell_type": "code",
   "execution_count": 34,
   "id": "9f14eb3d-c195-4c04-a8bf-b9b8f804b606",
   "metadata": {},
   "outputs": [],
   "source": [
    "new_dataframe.to_csv(f\"{processed_data_path}/train_data.csv\")"
   ]
  },
  {
   "cell_type": "code",
   "execution_count": 35,
   "id": "0252d758-f3f1-41ed-b944-af01a75e069c",
   "metadata": {
    "scrolled": true
   },
   "outputs": [
    {
     "data": {
      "text/plain": [
       "<Axes: >"
      ]
     },
     "execution_count": 35,
     "metadata": {},
     "output_type": "execute_result"
    },
    {
     "data": {
      "image/png": "[encoded data removed]",
      "text/plain": [
       "<Figure size 640x480 with 1 Axes>"
      ]
     },
     "metadata": {},
     "output_type": "display_data"
    }
   ],
   "source": [
    "new_dataframe['price'].hist()"
   ]
  },
  {
   "cell_type": "code",
   "execution_count": 36,
   "id": "d84685b1-32f3-4c5c-8541-aa171996d876",
   "metadata": {},
   "outputs": [],
   "source": [
    "new_df = new_dataframe[new_dataframe['price'] < 100_000_000]"
   ]
  },
  {
   "cell_type": "code",
   "execution_count": 37,
   "id": "3cde4678-f0d4-445a-80cc-974d6f696941",
   "metadata": {},
   "outputs": [
    {
     "data": {
      "text/plain": [
       "[<matplotlib.lines.Line2D at 0x1f41b1a8fe0>]"
      ]
     },
     "execution_count": 37,
     "metadata": {},
     "output_type": "execute_result"
    },
    {
     "data": {
      "image/png": "[encoded data removed]",
      "text/plain": [
       "<Figure size 640x480 with 1 Axes>"
      ]
     },
     "metadata": {},
     "output_type": "display_data"
    }
   ],
   "source": [
    "x = new_df['total_meters']\n",
    "y = new_df['price']\n",
    "\n",
    "plt.plot(x, y, 'o')\n",
    "\n",
    "#obtain m (slope) and b(intercept) of linear regression line\n",
    "m, b = np.polyfit(x, y, 1)\n",
    "\n",
    "#add linear regression line to scatterplot \n",
    "plt.plot(x, m*x+b)"
   ]
  },
  {
   "cell_type": "code",
   "execution_count": null,
   "id": "3fe258ea-40eb-4a39-b9bb-5508497d9cb4",
   "metadata": {},
   "outputs": [],
   "source": []
  },
  {
   "cell_type": "code",
   "execution_count": null,
   "id": "b0985ab1-5987-4d30-8538-a595821b6f0e",
   "metadata": {},
   "outputs": [],
   "source": []
  },
  {
   "cell_type": "code",
   "execution_count": null,
   "id": "0b0a10cc-2954-4225-bdac-ead64ba2c4e9",
   "metadata": {},
   "outputs": [],
   "source": []
  }
 ],
 "metadata": {
  "kernelspec": {
   "display_name": "Python 3 (ipykernel)",
   "language": "python",
   "name": "python3"
  },
  "language_info": {
   "codemirror_mode": {
    "name": "ipython",
    "version": 3
   },
   "file_extension": ".py",
   "mimetype": "text/x-python",
   "name": "python",
   "nbconvert_exporter": "python",
   "pygments_lexer": "ipython3",
   "version": "3.12.4"
  }
 },
 "nbformat": 4,
 "nbformat_minor": 5
}
