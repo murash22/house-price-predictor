{
 "cells": [
  {
   "cell_type": "code",
   "execution_count": 65,
   "id": "8603b172",
   "metadata": {
    "vscode": {
     "languageId": "plaintext"
    }
   },
   "outputs": [
    {
     "data": {
      "text/html": [
       "<div>\n",
       "<style scoped>\n",
       "    .dataframe tbody tr th:only-of-type {\n",
       "        vertical-align: middle;\n",
       "    }\n",
       "\n",
       "    .dataframe tbody tr th {\n",
       "        vertical-align: top;\n",
       "    }\n",
       "\n",
       "    .dataframe thead th {\n",
       "        text-align: right;\n",
       "    }\n",
       "</style>\n",
       "<table border=\"1\" class=\"dataframe\">\n",
       "  <thead>\n",
       "    <tr style=\"text-align: right;\">\n",
       "      <th></th>\n",
       "      <th>url_id</th>\n",
       "      <th>total_meters</th>\n",
       "      <th>price</th>\n",
       "    </tr>\n",
       "  </thead>\n",
       "  <tbody>\n",
       "    <tr>\n",
       "      <th>0</th>\n",
       "      <td>315685683</td>\n",
       "      <td>142.6</td>\n",
       "      <td>174314168</td>\n",
       "    </tr>\n",
       "    <tr>\n",
       "      <th>1</th>\n",
       "      <td>315253213</td>\n",
       "      <td>78.0</td>\n",
       "      <td>92880000</td>\n",
       "    </tr>\n",
       "    <tr>\n",
       "      <th>2</th>\n",
       "      <td>314440236</td>\n",
       "      <td>69.4</td>\n",
       "      <td>69900000</td>\n",
       "    </tr>\n",
       "    <tr>\n",
       "      <th>3</th>\n",
       "      <td>310829334</td>\n",
       "      <td>99.6</td>\n",
       "      <td>44000000</td>\n",
       "    </tr>\n",
       "    <tr>\n",
       "      <th>4</th>\n",
       "      <td>315941840</td>\n",
       "      <td>103.0</td>\n",
       "      <td>82500000</td>\n",
       "    </tr>\n",
       "    <tr>\n",
       "      <th>...</th>\n",
       "      <td>...</td>\n",
       "      <td>...</td>\n",
       "      <td>...</td>\n",
       "    </tr>\n",
       "    <tr>\n",
       "      <th>1301</th>\n",
       "      <td>315184584</td>\n",
       "      <td>70.0</td>\n",
       "      <td>40500000</td>\n",
       "    </tr>\n",
       "    <tr>\n",
       "      <th>1302</th>\n",
       "      <td>310306708</td>\n",
       "      <td>74.0</td>\n",
       "      <td>33950000</td>\n",
       "    </tr>\n",
       "    <tr>\n",
       "      <th>1303</th>\n",
       "      <td>315875559</td>\n",
       "      <td>184.8</td>\n",
       "      <td>230000000</td>\n",
       "    </tr>\n",
       "    <tr>\n",
       "      <th>1304</th>\n",
       "      <td>316729840</td>\n",
       "      <td>117.0</td>\n",
       "      <td>58500000</td>\n",
       "    </tr>\n",
       "    <tr>\n",
       "      <th>1305</th>\n",
       "      <td>310068451</td>\n",
       "      <td>36.8</td>\n",
       "      <td>20000000</td>\n",
       "    </tr>\n",
       "  </tbody>\n",
       "</table>\n",
       "<p>1306 rows × 3 columns</p>\n",
       "</div>"
      ],
      "text/plain": [
       "         url_id  total_meters      price\n",
       "0     315685683         142.6  174314168\n",
       "1     315253213          78.0   92880000\n",
       "2     314440236          69.4   69900000\n",
       "3     310829334          99.6   44000000\n",
       "4     315941840         103.0   82500000\n",
       "...         ...           ...        ...\n",
       "1301  315184584          70.0   40500000\n",
       "1302  310306708          74.0   33950000\n",
       "1303  315875559         184.8  230000000\n",
       "1304  316729840         117.0   58500000\n",
       "1305  310068451          36.8   20000000\n",
       "\n",
       "[1306 rows x 3 columns]"
      ]
     },
     "execution_count": 65,
     "metadata": {},
     "output_type": "execute_result"
    }
   ],
   "source": [
    "import pandas as pd\n",
    "import numpy as np\n",
    "from sklearn.model_selection import train_test_split\n",
    "from sklearn.linear_model import LinearRegression\n",
    "from sklearn.metrics import mean_squared_error, r2_score\n",
    "from sklearn.preprocessing import StandardScaler\n",
    "\n",
    "# Загрузка данных\n",
    "data = pd.read_csv(\"../data/processed/train_data.csv\")\n",
    "data"
   ]
  },
  {
   "cell_type": "code",
   "execution_count": 61,
   "id": "ff287bb2",
   "metadata": {
    "vscode": {
     "languageId": "plaintext"
    }
   },
   "outputs": [
    {
     "name": "stdout",
     "output_type": "stream",
     "text": [
      "Среднеквадратичная ошибка (MSE): 6776456060863847.00\n",
      "Корень из среднеквадратичной ошибки (RMSE): 82319232.63\n",
      "Коэффициент детерминации R²: 0.530925\n",
      "Средняя ошибка предсказания: 33677962.14 рублей\n",
      "Коэффициент при площади: 1441617.69\n",
      "Свободный член: -45337347.98\n"
     ]
    }
   ],
   "source": [
    "\n",
    "# Стандартизация признака\n",
    "# scaler = StandardScaler()\n",
    "# data['square_meters'] = scaler.fit_transform(data[['square_meters']])\n",
    "\n",
    "# Разделение на признаки и целевую переменную\n",
    "X = data[['total_meters']]  # только один признак - площадь\n",
    "y = data['price']\n",
    "\n",
    "# Разделение на тренировочную и тестовую выборки\n",
    "X_train, X_test, y_train, y_test = train_test_split(\n",
    "    X, y, test_size=0.2, random_state=42)\n",
    "\n",
    "# Создание и обучение модели\n",
    "model = LinearRegression()\n",
    "model.fit(X_train, y_train)\n",
    "\n",
    "# Предсказание на тестовой выборке\n",
    "y_pred = model.predict(X_test)\n",
    "\n",
    "# Оценка модели\n",
    "mse = mean_squared_error(y_test, y_pred)\n",
    "rmse = np.sqrt(mse)\n",
    "r2 = r2_score(y_test, y_pred)\n",
    "\n",
    "# Вывод метрик качества\n",
    "# todo: use logging\n",
    "print(f\"Среднеквадратичная ошибка (MSE): {mse:.2f}\")\n",
    "print(f\"Корень из среднеквадратичной ошибки (RMSE): {rmse:.2f}\")\n",
    "print(f\"Коэффициент детерминации R²: {r2:.6f}\")\n",
    "print(f\"Средняя ошибка предсказания: {np.mean(np.abs(y_test - y_pred)):.2f} рублей\")\n",
    "\n",
    "# Коэффициенты модели\n",
    "print(f\"Коэффициент при площади: {model.coef_[0]:.2f}\")\n",
    "print(f\"Свободный член: {model.intercept_:.2f}\")\n"
   ]
  },
  {
   "cell_type": "code",
   "execution_count": 64,
   "id": "1c923b3e",
   "metadata": {
    "vscode": {
     "languageId": "plaintext"
    }
   },
   "outputs": [
    {
     "name": "stdout",
     "output_type": "stream",
     "text": [
      "Модель сохранена в файл f{model_path}\n",
      "Модель загружена из файла\n"
     ]
    }
   ],
   "source": [
    "import joblib\n",
    "# Сохранение модели\n",
    "model_path = '../models/linear_regression_model.pkl'\n",
    "\n",
    "joblib.dump(model, model_path)\n",
    "print(\"Модель сохранена в файл f{model_path}\")\n",
    "\n",
    "# Загрузка модели\n",
    "loaded_model = joblib.load(model_path)\n",
    "print(\"Модель загружена из файла\")"
   ]
  },
  {
   "cell_type": "code",
   "execution_count": null,
   "id": "cac8a67a-121b-4154-8141-2630a16867f1",
   "metadata": {},
   "outputs": [],
   "source": []
  }
 ],
 "metadata": {
  "kernelspec": {
   "display_name": "Python 3 (ipykernel)",
   "language": "python",
   "name": "python3"
  },
  "language_info": {
   "codemirror_mode": {
    "name": "ipython",
    "version": 3
   },
   "file_extension": ".py",
   "mimetype": "text/x-python",
   "name": "python",
   "nbconvert_exporter": "python",
   "pygments_lexer": "ipython3",
   "version": "3.12.4"
  }
 },
 "nbformat": 4,
 "nbformat_minor": 5
}
